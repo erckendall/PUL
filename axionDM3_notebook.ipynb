{
 "cells": [
  {
   "cell_type": "code",
   "execution_count": 2,
   "metadata": {},
   "outputs": [],
   "source": [
    "import numpy as np\n",
    "import matplotlib.pyplot as plt\n",
    "import matplotlib.animation\n",
    "import math\n",
    "import axionDM3\n",
    "import pyfftw\n",
    "import os\n",
    "import sys\n",
    "import multiprocessing\n",
    "import numpy\n",
    "import numba\n",
    "import h5py\n",
    "from IPython.core.display import clear_output\n",
    "%matplotlib inline"
   ]
  },
  {
   "cell_type": "markdown",
   "metadata": {},
   "source": [
    "# Set Axion Mass"
   ]
  },
  {
   "cell_type": "code",
   "execution_count": 3,
   "metadata": {},
   "outputs": [],
   "source": [
    "axion_mass = 1e-22 *1.783e-36 #kg\n",
    "\n",
    "# Set units for soliton parameters\n",
    "s_mass_unit = ''     #Accepted units: 'kg', 'solar_masses', 'M_solar_masses', and '' for dimensionless units as used in [1]\n",
    "s_position_unit = '' #Accepted units: 'm', 'km', 'pc', 'kpc', 'Mpc', 'ly', and '' for dimensionless units as used in [1]\n",
    "s_velocity_unit = '' #Accepted units: 'm/s', 'km/s', 'km/h', and '' for dimensionless units as used in [1]"
   ]
  },
  {
   "cell_type": "markdown",
   "metadata": {},
   "source": [
    "# Set Simulation Parameters"
   ]
  },
  {
   "cell_type": "code",
   "execution_count": 12,
   "metadata": {},
   "outputs": [
    {
     "name": "stdout",
     "output_type": "stream",
     "text": [
      "4\n"
     ]
    }
   ],
   "source": [
    "# Set number of threads to target\n",
    "num_threads = multiprocessing.cpu_count()\n",
    "print(num_threads)\n",
    "\n",
    "# Set box size and resolution\n",
    "length = 6 #1 code unit is ~38 kpc x (1e-22/m_a)^0.5\n",
    "length_units = ''  #Accepted units: 'm', 'km', 'pc', 'kpc', 'Mpc', 'ly', and '' for dimensionless units as used in [1]\n",
    "\n",
    "resol=256 #Note that for resol 128, the largest stable soliton mass is ~ 50 in code units \n",
    "\n",
    "# Set duration of simulation in given units\n",
    "duration = 2.5 #1 code unit is ~70 Gyr (no rescaling with m_a)\n",
    "\n",
    "duration_units = ''  #Accepted units: 's', 'yr', 'kyr', 'Myr', and '' for dimensionless units as used in [1]\n",
    "\n",
    "start_time = 0.0 #Should be given in the same units as duration. \n",
    "\n",
    "#central_mass = 2000.0 #1 code unit is ~2.3e6 M_sol (1e-22/m_a)^1.5\n",
    "central_mass = 0. #Give this parameter in the SAME units as the soliton mass unit. i.e. units must match with s_mass_unit\n",
    "\n",
    "# Set options for what to save, where to save, and in what format to save it\n",
    "\n",
    "#Data to save\n",
    "save_rho = False\n",
    "save_psi = False\n",
    "save_plane = True\n",
    "save_energies = True\n",
    "save_stability = False\n",
    "save_line = True\n",
    "save_angular_momentum = True\n",
    "\n",
    "#Formats to save to\n",
    "hdf5 = False\n",
    "npz = False\n",
    "npy = True\n",
    "\n",
    "\n",
    "save_number = 200     # Choose number of 'frames' to save. Note that, depending on resolution, this could require significant disk space.\n",
    "save_path = 'TestOutput'  # Set output directory\n",
    "step_factor = 1.\n",
    "\n",
    "save_options = [save_rho,save_psi,save_plane,save_energies,save_stability,save_line,save_angular_momentum]"
   ]
  },
  {
   "cell_type": "markdown",
   "metadata": {},
   "source": [
    "# Set Initial Conditions:"
   ]
  },
  {
   "cell_type": "code",
   "execution_count": 13,
   "metadata": {},
   "outputs": [],
   "source": [
    "m = 22 #1 code unit is ~2.3e6 M_sol (1e-22/m_a)^1.5\n",
    "r = 1 #1 code unit is ~38 kpc x (1e-22/m_a)^0.5\n",
    "#v = np.sqrt(central_mass/r)\n",
    "#Soliton parameters are mass, position, velocity and phase (radians)\n",
    "soliton4 = [m, [r,0,0], [0,1.8,0], 0]\n",
    "soliton5 = [m, [-r,0,0], [0,-1.8,0], 0]\n",
    "solitons = [soliton4, soliton5]  \n",
    "\n",
    "#Note that the output files are always named according to the mass and radius of the first soliton in this list"
   ]
  },
  {
   "cell_type": "markdown",
   "metadata": {},
   "source": [
    "# Run:"
   ]
  },
  {
   "cell_type": "code",
   "execution_count": 14,
   "metadata": {
    "scrolled": true
   },
   "outputs": [
    {
     "name": "stdout",
     "output_type": "stream",
     "text": [
      "The total number of steps is 14400\n",
      "\n",
      "\n",
      "[----                                              ] 7%  The previous step took 0.936841964722 seconds."
     ]
    },
    {
     "ename": "KeyboardInterrupt",
     "evalue": "",
     "traceback": [
      "\u001b[0;31m---------------------------------------------------------------------------\u001b[0m",
      "\u001b[0;31mKeyboardInterrupt\u001b[0m                         Traceback (most recent call last)",
      "\u001b[0;32m<ipython-input-14-7416ef4df70d>\u001b[0m in \u001b[0;36m<module>\u001b[0;34m()\u001b[0m\n\u001b[1;32m      1\u001b[0m \u001b[0;31m#evolve_jit=numba.jit(axionDM3.evolve)\u001b[0m\u001b[0;34m\u001b[0m\u001b[0;34m\u001b[0m\u001b[0m\n\u001b[1;32m      2\u001b[0m \u001b[0;31m#evolve_jit(central_mass, num_threads, length, length_units, resol, duration, duration_units, save_number, save_options, save_path, npz, npy, txt, hdf5, s_mass_unit, s_position_unit, s_velocity_unit, solitons)\u001b[0m\u001b[0;34m\u001b[0m\u001b[0;34m\u001b[0m\u001b[0m\n\u001b[0;32m----> 3\u001b[0;31m \u001b[0maxionDM3\u001b[0m\u001b[0;34m.\u001b[0m\u001b[0mevolve\u001b[0m\u001b[0;34m(\u001b[0m\u001b[0mcentral_mass\u001b[0m\u001b[0;34m,\u001b[0m \u001b[0mnum_threads\u001b[0m\u001b[0;34m,\u001b[0m \u001b[0mlength\u001b[0m\u001b[0;34m,\u001b[0m \u001b[0mlength_units\u001b[0m\u001b[0;34m,\u001b[0m \u001b[0mresol\u001b[0m\u001b[0;34m,\u001b[0m \u001b[0mduration\u001b[0m\u001b[0;34m,\u001b[0m \u001b[0mduration_units\u001b[0m\u001b[0;34m,\u001b[0m \u001b[0msave_number\u001b[0m\u001b[0;34m,\u001b[0m \u001b[0msave_options\u001b[0m\u001b[0;34m,\u001b[0m \u001b[0msave_path\u001b[0m\u001b[0;34m,\u001b[0m \u001b[0mnpz\u001b[0m\u001b[0;34m,\u001b[0m \u001b[0mnpy\u001b[0m\u001b[0;34m,\u001b[0m \u001b[0mhdf5\u001b[0m\u001b[0;34m,\u001b[0m \u001b[0ms_mass_unit\u001b[0m\u001b[0;34m,\u001b[0m \u001b[0ms_position_unit\u001b[0m\u001b[0;34m,\u001b[0m \u001b[0ms_velocity_unit\u001b[0m\u001b[0;34m,\u001b[0m \u001b[0msolitons\u001b[0m\u001b[0;34m,\u001b[0m \u001b[0mstart_time\u001b[0m\u001b[0;34m)\u001b[0m\u001b[0;34m\u001b[0m\u001b[0m\n\u001b[0m",
      "\u001b[0;32m/home/eken000/PyUltraLight/axionDM3.py\u001b[0m in \u001b[0;36mevolve\u001b[0;34m(central_mass, num_threads, length, length_units, resol, duration, duration_units, save_number, save_options, save_path, npz, npy, hdf5, s_mass_unit, s_position_unit, s_velocity_unit, solitons, start_time)\u001b[0m\n\u001b[1;32m    593\u001b[0m         \u001b[0mfunct\u001b[0m \u001b[0;34m=\u001b[0m \u001b[0mne\u001b[0m\u001b[0;34m.\u001b[0m\u001b[0mevaluate\u001b[0m\u001b[0;34m(\u001b[0m\u001b[0;34m\"funct*exp(-1j*0.5*h*karray2)\"\u001b[0m\u001b[0;34m)\u001b[0m\u001b[0;34m\u001b[0m\u001b[0m\n\u001b[1;32m    594\u001b[0m         \u001b[0mpsi\u001b[0m \u001b[0;34m=\u001b[0m \u001b[0mifft_funct\u001b[0m\u001b[0;34m(\u001b[0m\u001b[0mfunct\u001b[0m\u001b[0;34m)\u001b[0m\u001b[0;34m\u001b[0m\u001b[0m\n\u001b[0;32m--> 595\u001b[0;31m         \u001b[0mrho\u001b[0m \u001b[0;34m=\u001b[0m \u001b[0mne\u001b[0m\u001b[0;34m.\u001b[0m\u001b[0mevaluate\u001b[0m\u001b[0;34m(\u001b[0m\u001b[0;34m\"real(abs(psi)**2)\"\u001b[0m\u001b[0;34m)\u001b[0m\u001b[0;34m\u001b[0m\u001b[0m\n\u001b[0m\u001b[1;32m    596\u001b[0m         \u001b[0mphik\u001b[0m \u001b[0;34m=\u001b[0m \u001b[0mrfft_rho\u001b[0m\u001b[0;34m(\u001b[0m\u001b[0mrho\u001b[0m\u001b[0;34m)\u001b[0m  \u001b[0;31m# not actually phik but phik is defined on next line\u001b[0m\u001b[0;34m\u001b[0m\u001b[0m\n\u001b[1;32m    597\u001b[0m         \u001b[0mphik\u001b[0m \u001b[0;34m=\u001b[0m \u001b[0mne\u001b[0m\u001b[0;34m.\u001b[0m\u001b[0mevaluate\u001b[0m\u001b[0;34m(\u001b[0m\u001b[0;34m\"-4*3.141593*(phik)/rkarray2\"\u001b[0m\u001b[0;34m)\u001b[0m\u001b[0;34m\u001b[0m\u001b[0m\n",
      "\u001b[0;32m/usr/lib/python2.7/dist-packages/numexpr/necompiler.pyc\u001b[0m in \u001b[0;36mevaluate\u001b[0;34m(ex, local_dict, global_dict, out, order, casting, **kwargs)\u001b[0m\n\u001b[1;32m    765\u001b[0m     kwargs = {'out': out, 'order': order, 'casting': casting,\n\u001b[1;32m    766\u001b[0m               'ex_uses_vml': ex_uses_vml}\n\u001b[0;32m--> 767\u001b[0;31m     \u001b[0;32mreturn\u001b[0m \u001b[0mcompiled_ex\u001b[0m\u001b[0;34m(\u001b[0m\u001b[0;34m*\u001b[0m\u001b[0marguments\u001b[0m\u001b[0;34m,\u001b[0m \u001b[0;34m**\u001b[0m\u001b[0mkwargs\u001b[0m\u001b[0;34m)\u001b[0m\u001b[0;34m\u001b[0m\u001b[0m\n\u001b[0m",
      "\u001b[0;31mKeyboardInterrupt\u001b[0m: "
     ],
     "output_type": "error"
    }
   ],
   "source": [
    "#evolve_jit=numba.jit(axionDM3.evolve)\n",
    "#evolve_jit(central_mass, num_threads, length, length_units, resol, duration, duration_units, save_number, save_options, save_path, npz, npy, txt, hdf5, s_mass_unit, s_position_unit, s_velocity_unit, solitons)\n",
    "axionDM3.evolve(central_mass, num_threads, length, length_units, resol, duration, duration_units, step_factor, save_number, save_options, save_path, npz, npy, hdf5, s_mass_unit, s_position_unit, s_velocity_unit, solitons, start_time)"
   ]
  },
  {
   "cell_type": "markdown",
   "metadata": {},
   "source": [
    "# Visualisations:"
   ]
  },
  {
   "cell_type": "code",
   "execution_count": 11,
   "metadata": {
    "scrolled": false
   },
   "outputs": [
    {
     "data": {
      "image/png": "[encoded data removed]",
      "text/plain": [
       "<Figure size 432x288 with 1 Axes>"
      ]
     },
     "metadata": {},
     "output_type": "display_data"
    }
   ],
   "source": [
    "output_animated = 5\n",
    "# 0 for all contours plotted on a single graph, 1 for an animation in time, 2 for energy lists \n",
    "#over time, 3 for line along axis of symmetry, 4 for Egp plane over time, 5 for angular momentum lists over time \n",
    "save_plots = 0 \n",
    "# 0 to display contours without saving, 1 to save as well. \n",
    "\n",
    "\n",
    "with open('{}{}'.format(save_path, '/timestamp.txt'), 'r') as timestamp:\n",
    "  ts = timestamp.read()\n",
    "\n",
    "loc = save_path + '/' + ts\n",
    "\n",
    "if output_animated == 2:\n",
    "\n",
    "    egylist = np.load('{}{}'.format(loc, '/egylist.npy')).tolist()\n",
    "    egpcmlist = np.load('{}{}'.format(loc, '/egpcmlist.npy')).tolist()\n",
    "    egpsilist = np.load('{}{}'.format(loc, '/egpsilist.npy')).tolist()\n",
    "    ekandqlist = np.load('{}{}'.format(loc, '/ekandqlist.npy')).tolist()\n",
    "    masslist = np.load('{}{}'.format(loc, '/masslist.npy')).tolist()\n",
    "    plt.plot(egylist,label='Total')\n",
    "    plt.plot(egpcmlist,label='$E_{GP}$ (central potential)')\n",
    "    plt.plot(egpsilist,label='$E_{GP}$ (self-interaction)')\n",
    "    plt.plot(ekandqlist,label='$E_{K}+E_{Q}$')\n",
    "    plt.legend(loc='upper center', bbox_to_anchor=(0.5, 1.3), frameon=False, ncol=2)\n",
    "    if save_plots == 1:\n",
    "        plt.savefig('./Visualisations/energy_diagram.eps', format='eps', dpi=1000)\n",
    "    plt.show()\n",
    "\n",
    "if output_animated == 5:\n",
    "\n",
    "    lxlist = np.load('{}{}'.format(loc, '/lxlist.npy')).tolist()\n",
    "    lylist = np.load('{}{}'.format(loc, '/lylist.npy')).tolist()\n",
    "    lzlist = np.load('{}{}'.format(loc, '/lzlist.npy')).tolist()\n",
    "#     print lxlist\n",
    "#     print lylist\n",
    "#     print lzlist\n",
    "    plt.plot(lxlist,label='Lx')\n",
    "    plt.plot(lylist,label='Ly')\n",
    "    plt.plot(lzlist,label='Lz')\n",
    "    plt.legend(loc='upper center', bbox_to_anchor=(0.5, 1.3), frameon=False, ncol=2)\n",
    "    if save_plots == 1:\n",
    "        plt.savefig('./Visualisations/angular_momentum_diagram.eps', format='eps', dpi=1000)\n",
    "    plt.show()\n",
    "    \n",
    "    \n",
    "    \n",
    "if output_animated == 0:\n",
    "    import warnings \n",
    "    warnings.filterwarnings(\"ignore\")\n",
    "    plt.ioff()\n",
    "    for x in np.arange(0,save_number+1,1):\n",
    "        if x == 0:\n",
    "            plt.contour(np.load('{}{}{}{}'.format(loc, '/plane_#',x,'.npy')),colors='k')\n",
    "        if x in np.arange(1,save_number+1,1):\n",
    "            plt.contour(np.load('{}{}{}{}'.format(loc, '/plane_#',x,'.npy')))\n",
    "            plt.axes().set_aspect('equal')\n",
    "    if save_plots == 1:\n",
    "        plt.savefig('{}'.format('./Visualisations/Static_contours.eps'), format='eps', dpi=1000)\n",
    "\n",
    "\n",
    "if output_animated in (1,3,4):        \n",
    "\n",
    "    import warnings \n",
    "    warnings.filterwarnings(\"ignore\")\n",
    "    plt.ioff()\n",
    "    fig,ax = plt.subplots(figsize=(20, 10))\n",
    "    plt.axes().set_aspect('equal')\n",
    "    \n",
    "    data = []\n",
    "    \n",
    "    for x in np.arange(0,save_number+1,1):\n",
    "        if output_animated == 1:\n",
    "            data.append(np.load('{}{}{}{}'.format(loc, '/plane_#', x, '.npy')))\n",
    "        if output_animated == 3:\n",
    "            data.append(np.load('{}{}{}{}'.format(loc, '/line_#', x, '.npy')))\n",
    "        if output_animated == 4:\n",
    "            data.append(np.load('{}{}{}{}'.format(loc, '/egp_plane_#', x ,'.npy')))\n",
    "\n",
    "    def animate(i):\n",
    "        plt.clf()\n",
    "        if output_animated in (1, 4):\n",
    "            plot = plt.contour(data[i])\n",
    "            plt.axes().set_aspect('equal')\n",
    "            plt.axes().get_xaxis().set_ticks([])\n",
    "            plt.axes().get_yaxis().set_ticks([])\n",
    "        if output_animated == 1:\n",
    "            plt.title('Mass Density - Plane')\n",
    "        if output_animated == 4:\n",
    "            plt.title('Gravitational Potential Energy Density')\n",
    "        if output_animated == 3:\n",
    "            plt.clf()\n",
    "            plot = plt.plot(data[i])    \n",
    "            plt.title('Mass Density - Line')\n",
    "            plt.axes().set_ylim(0,max(data[0]))\n",
    "            \n",
    "            \n",
    "    interval = 0.15 #in seconds\n",
    "    ani = matplotlib.animation.FuncAnimation(fig,animate,save_number+1,interval=interval*1e+3,blit=False)\n",
    "    \n",
    "    from IPython.display import HTML\n",
    "    animated_plot = HTML(ani.to_jshtml())\n",
    "\n",
    "    if save_plots == 1:  \n",
    "        save_html = animated_plot.data\n",
    "        if output_animated == 1:\n",
    "            with open('./Visualisations/plane_animation.html', 'w') as f:\n",
    "                f.write(save_html)\n",
    "        if output_animated == 3:\n",
    "            with open('./Visualisations/line_animation.html', 'w') as f:\n",
    "                f.write(save_html)\n",
    "        if output_animated == 4:\n",
    "            with open('./Visualisations/Egp_animation.html', 'w') as f:\n",
    "                f.write(save_html)\n",
    "\n",
    "    display(animated_plot) \n",
    "    plt.close()    \n",
    "\n",
    "\n",
    "\n",
    "\n",
    "  "
   ]
  },
  {
   "cell_type": "code",
   "execution_count": null,
   "metadata": {
    "collapsed": true
   },
   "outputs": [],
   "source": []
  }
 ],
 "metadata": {
  "kernelspec": {
   "display_name": "Python 2",
   "language": "python",
   "name": "python2"
  },
  "language_info": {
   "codemirror_mode": {
    "name": "ipython",
    "version": 2
   },
   "file_extension": ".py",
   "mimetype": "text/x-python",
   "name": "python",
   "nbconvert_exporter": "python",
   "pygments_lexer": "ipython2",
   "version": "2.7.12"
  }
 },
 "nbformat": 4,
 "nbformat_minor": 1
}
