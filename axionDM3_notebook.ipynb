{
 "cells": [
  {
   "cell_type": "code",
   "execution_count": 6,
   "metadata": {},
   "outputs": [],
   "source": [
    "import numpy as np\n",
    "import matplotlib.pyplot as plt\n",
    "import matplotlib.animation\n",
    "import math\n",
    "import axionDM3\n",
    "import pyfftw\n",
    "import os\n",
    "import sys\n",
    "import multiprocessing\n",
    "import numpy\n",
    "import numba\n",
    "import h5py\n",
    "from IPython.core.display import clear_output\n",
    "%matplotlib inline"
   ]
  },
  {
   "cell_type": "markdown",
   "metadata": {},
   "source": [
    "# Set Axion Mass"
   ]
  },
  {
   "cell_type": "code",
   "execution_count": 7,
   "metadata": {},
   "outputs": [],
   "source": [
    "axion_mass = 1e-22 *1.783e-36 #kg\n",
    "\n",
    "# Set units for soliton parameters\n",
    "s_mass_unit = ''     #Accepted units: 'kg', 'solar_masses', 'M_solar_masses', and '' for dimensionless units as used in [1]\n",
    "s_position_unit = '' #Accepted units: 'm', 'km', 'pc', 'kpc', 'Mpc', 'ly', and '' for dimensionless units as used in [1]\n",
    "s_velocity_unit = '' #Accepted units: 'm/s', 'km/s', 'km/h', and '' for dimensionless units as used in [1]"
   ]
  },
  {
   "cell_type": "markdown",
   "metadata": {},
   "source": [
    "# Set Simulation Parameters"
   ]
  },
  {
   "cell_type": "code",
   "execution_count": 8,
   "metadata": {},
   "outputs": [
    {
     "name": "stdout",
     "output_type": "stream",
     "text": [
      "4\n"
     ]
    }
   ],
   "source": [
    "# Set number of threads to target\n",
    "num_threads = multiprocessing.cpu_count()\n",
    "print(num_threads)\n",
    "\n",
    "# Set box size and resolution\n",
    "length = 8 #1 code unit is ~38 kpc x (1e-22/m_a)^0.5\n",
    "length_units = ''  #Accepted units: 'm', 'km', 'pc', 'kpc', 'Mpc', 'ly', and '' for dimensionless units as used in [1]\n",
    "\n",
    "resol=64 #Note that for resol 128, the largest stable soliton mass is ~ 50 in code units \n",
    "\n",
    "# Set duration of simulation in given units\n",
    "duration = 1.0 #1 code unit is ~70 Gyr (no rescaling with m_a)\n",
    "\n",
    "duration_units = ''  #Accepted units: 's', 'yr', 'kyr', 'Myr', and '' for dimensionless units as used in [1]\n",
    "\n",
    "start_time = 0.0 #Should be given in the same units as duration. \n",
    "\n",
    "#central_mass = 2000.0 #1 code unit is ~2.3e6 M_sol (1e-22/m_a)^1.5\n",
    "central_mass = 0.\n",
    "\n",
    "# Set options for what to save, where to save, and in what format to save it\n",
    "\n",
    "#Data to save\n",
    "save_rho = False\n",
    "save_psi = False\n",
    "save_plane = True\n",
    "save_energies = True\n",
    "save_stability = True\n",
    "save_line = False\n",
    "\n",
    "#Formats to save to\n",
    "hdf5 = False\n",
    "npz = False\n",
    "npy = True\n",
    "\n",
    "\n",
    "save_number = 200     # Choose number of 'frames' to save. Note that, depending on resolution, this could require significant disk space.\n",
    "save_path = 'TestOutput'  # Set output directory\n",
    "\n",
    "save_options = [save_rho,save_psi,save_plane,save_energies,save_stability,save_line]"
   ]
  },
  {
   "cell_type": "markdown",
   "metadata": {},
   "source": [
    "# Set Initial Conditions:"
   ]
  },
  {
   "cell_type": "code",
   "execution_count": 9,
   "metadata": {},
   "outputs": [],
   "source": [
    "m = 20 #1 code unit is ~2.3e6 M_sol (1e-22/m_a)^1.5\n",
    "r = 1 #1 code unit is ~38 kpc x (1e-22/m_a)^0.5\n",
    "v= np.sqrt(central_mass/r)\n",
    "#The above formula assumes that v, m, and r are all given in code units\n",
    "#Because of file naming, problems arise if m or r are not given as integers\n",
    "\n",
    "#Soliton parameters are mass, position, velocity and phase (radians)\n",
    "# soliton1 = [m, [r,0,0], [0,-v,0], 0]\n",
    "# soliton2 = [m, [0,r,0], [v,0,0], 0]\n",
    "# soliton3 = [m, [r/np.sqrt(2),r/np.sqrt(2),0], [v/np.sqrt(2),-v/np.sqrt(2),0], 0]\n",
    "soliton4 = [m, [r,0,0], [0,1.8,0], 0]\n",
    "soliton5 = [m, [-r,0,0], [0,-1.8,0], 0]\n",
    "solitons = [soliton4, soliton5]  #Add any further solitons to this list\n",
    "\n",
    "#Note that the output files are always named according to the mass and radius of the first soliton in this list"
   ]
  },
  {
   "cell_type": "markdown",
   "metadata": {},
   "source": [
    "# Run:"
   ]
  },
  {
   "cell_type": "code",
   "execution_count": 10,
   "metadata": {
    "scrolled": true
   },
   "outputs": [
    {
     "name": "stdout",
     "output_type": "stream",
     "text": [
      "\n",
      "\n",
      "Complete.\n"
     ]
    }
   ],
   "source": [
    "#evolve_jit=numba.jit(axionDM3.evolve)\n",
    "#evolve_jit(central_mass, num_threads, length, length_units, resol, duration, duration_units, save_number, save_options, save_path, npz, npy, txt, hdf5, s_mass_unit, s_position_unit, s_velocity_unit, solitons)\n",
    "axionDM3.evolve(central_mass, num_threads, length, length_units, resol, duration, duration_units, save_number, save_options, save_path, npz, npy, hdf5, s_mass_unit, s_position_unit, s_velocity_unit, solitons, start_time)"
   ]
  },
  {
   "cell_type": "markdown",
   "metadata": {},
   "source": [
    "# Visualisations:"
   ]
  },
  {
   "cell_type": "code",
   "execution_count": 17,
   "metadata": {
    "scrolled": false
   },
   "outputs": [
    {
     "data": {
      "image/png": "[encoded data removed]",
      "text/plain": [
       "<matplotlib.figure.Figure at 0x7f0588205b10>"
      ]
     },
     "metadata": {},
     "output_type": "display_data"
    }
   ],
   "source": [
    "output_animated = 2# 0 for all contours plotted on a single graph, 1 for an animation in time, 2 for energy over time, 3 for line along axis of symmetry \n",
    "save_plots = 1 # 0 to just display contours without saving, 1 to save as well. \n",
    "\n",
    "\n",
    "\n",
    "if output_animated == 2:\n",
    "\n",
    "    egylist = np.load('TestOutput/egylist.npy').tolist()\n",
    "    egpcmlist = np.load('TestOutput/egpcmlist.npy').tolist()\n",
    "    egpsilist = np.load('TestOutput/egpsilist.npy').tolist()\n",
    "    ekandqlist = np.load('TestOutput/ekandqlist.npy').tolist()\n",
    "    masslist = np.load('TestOutput/masslist.npy').tolist()\n",
    "    plt.plot(egylist,label='Total')\n",
    "    plt.plot(egpcmlist,label='$E_{GP}$ (central potential)')\n",
    "    plt.plot(egpsilist,label='$E_{GP}$ (self-interaction)')\n",
    "    plt.plot(ekandqlist,label='$E_{K}+E_{Q}$')\n",
    "    plt.legend(loc='upper center', bbox_to_anchor=(0.5, 1.3), frameon=False, ncol=2)\n",
    "    if save_plots == 1:\n",
    "        plt.savefig('./Visualisations/energy_diagram.eps', format='eps', dpi=1000)\n",
    "    plt.show()\n",
    "\n",
    "if output_animated == 0:\n",
    "    for x in np.arange(0,save_number+1,1):\n",
    "        if x == 0:\n",
    "            plt.contour(np.load('{}{}{}{}{}{}{}'.format('TestOutput/plane_r=',r,'_m=',m,'_#',x,'.npy')),colors='k')\n",
    "        if x in np.arange(1,save_number+1,1):\n",
    "            plt.contour(np.load('{}{}{}{}{}{}{}'.format('TestOutput/plane_r=',r,'_m=',m,'_#',x,'.npy')))\n",
    "    if save_plots == 1:\n",
    "        plt.savefig('{}{}{}{}{}'.format('./Visualisations/r=', r, '_m=', m, '.eps'), format='eps', dpi=1000)\n",
    "\n",
    "\n",
    "if output_animated == 1:        \n",
    "\n",
    "    data = []\n",
    "    for x in np.arange(0,save_number+1,1):\n",
    "        data.append(np.load('{}{}{}{}{}{}{}'.format('TestOutput/plane_r=',r,'_m=',m,'_#',x,'.npy')))\n",
    "\n",
    "    import warnings \n",
    "    warnings.filterwarnings(\"ignore\")\n",
    "    plt.ioff()\n",
    "    fig,ax = plt.subplots(figsize=(20, 10))\n",
    "    \n",
    "    def animate(i):\n",
    "        plt.clf()\n",
    "        plot = plt.contourf(data[i])\n",
    "        plt.axes().set_aspect('equal')\n",
    "        plt.axes().get_xaxis().set_ticks([])\n",
    "        plt.axes().get_yaxis().set_ticks([])\n",
    "        plt.title('{}{}{}{}{}{}'.format('Duration: ', duration, ', Length: ', length, ', Soliton mass: ',m))\n",
    "        \n",
    "        \n",
    "    interval = 0.15 #in seconds\n",
    "    ani = matplotlib.animation.FuncAnimation(fig,animate,save_number+1,interval=interval*1e+3,blit=False)\n",
    "    \n",
    "\n",
    "    from IPython.display import HTML\n",
    "    animated_plot = HTML(ani.to_jshtml())\n",
    "\n",
    "    if save_plots == 1:  \n",
    "        save_html = animated_plot.data\n",
    "        with open('./Visualisations/plane_animation.html', 'w') as f:\n",
    "            f.write(save_html)\n",
    "\n",
    "    display(animated_plot) \n",
    "    plt.close()    \n",
    "\n",
    "        \n",
    "if output_animated == 3:        \n",
    "\n",
    "    data = []\n",
    "    for x in np.arange(0,save_number+1,1):\n",
    "        data.append(np.load('{}{}{}{}{}{}{}'.format('TestOutput/line_r=',r,'_m=',m,'_#',x,'.npy')))\n",
    "\n",
    "    import warnings \n",
    "    warnings.filterwarnings(\"ignore\")\n",
    "    plt.ioff()\n",
    "    fig,ax = plt.subplots()\n",
    "    plt.axes().set_aspect('equal')\n",
    "    \n",
    "    def animate(i):\n",
    "        plt.clf()\n",
    "        plot = plt.plot(data[i])\n",
    "        \n",
    "        \n",
    "    interval = 0.15 #in seconds\n",
    "    ani2 = matplotlib.animation.FuncAnimation(fig,animate,save_number+1,interval=interval*1e+3,blit=False)\n",
    "    \n",
    "\n",
    "    from IPython.display import HTML\n",
    "    animated_plot2 = HTML(ani2.to_jshtml())\n",
    "\n",
    "    if save_plots == 1:  \n",
    "        save_html = animated_plot2.data\n",
    "        with open('./Visualisations/line_animation.html', 'w') as f:\n",
    "            f.write(save_html)\n",
    "\n",
    "    display(animated_plot2) \n",
    "    plt.close()    \n",
    "  "
   ]
  },
  {
   "cell_type": "code",
   "execution_count": null,
   "metadata": {},
   "outputs": [],
   "source": []
  },
  {
   "cell_type": "code",
   "execution_count": null,
   "metadata": {},
   "outputs": [],
   "source": []
  },
  {
   "cell_type": "code",
   "execution_count": null,
   "metadata": {},
   "outputs": [],
   "source": []
  }
 ],
 "metadata": {
  "kernelspec": {
   "display_name": "Python 2",
   "language": "python",
   "name": "python2"
  },
  "language_info": {
   "codemirror_mode": {
    "name": "ipython",
    "version": 2
   },
   "file_extension": ".py",
   "mimetype": "text/x-python",
   "name": "python",
   "nbconvert_exporter": "python",
   "pygments_lexer": "ipython2",
   "version": "2.7.12"
  }
 },
 "nbformat": 4,
 "nbformat_minor": 1
}
